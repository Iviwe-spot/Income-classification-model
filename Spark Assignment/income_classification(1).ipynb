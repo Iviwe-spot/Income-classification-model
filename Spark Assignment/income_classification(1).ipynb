{
  "cells": [
    {
      "cell_type": "code",
      "execution_count": 1,
      "metadata": {
        "colab": {
          "base_uri": "https://localhost:8080/"
        },
        "id": "zuP3MZkpBOgL",
        "outputId": "3f371d24-af0e-45fe-c5e3-c286216f1f3e"
      },
      "outputs": [
        {
          "output_type": "stream",
          "name": "stdout",
          "text": [
            "Collecting pyspark\n",
            "  Downloading pyspark-3.5.1.tar.gz (317.0 MB)\n",
            "\u001b[2K     \u001b[90m━━━━━━━━━━━━━━━━━━━━━━━━━━━━━━━━━━━━━━━━\u001b[0m \u001b[32m317.0/317.0 MB\u001b[0m \u001b[31m2.4 MB/s\u001b[0m eta \u001b[36m0:00:00\u001b[0m\n",
            "\u001b[?25h  Preparing metadata (setup.py) ... \u001b[?25l\u001b[?25hdone\n",
            "Requirement already satisfied: py4j==0.10.9.7 in /usr/local/lib/python3.10/dist-packages (from pyspark) (0.10.9.7)\n",
            "Building wheels for collected packages: pyspark\n",
            "  Building wheel for pyspark (setup.py) ... \u001b[?25l\u001b[?25hdone\n",
            "  Created wheel for pyspark: filename=pyspark-3.5.1-py2.py3-none-any.whl size=317488491 sha256=fbef06efbb73a7498b6ad90ebdf988de743c718b710a51cc21b31f965597ad92\n",
            "  Stored in directory: /root/.cache/pip/wheels/80/1d/60/2c256ed38dddce2fdd93be545214a63e02fbd8d74fb0b7f3a6\n",
            "Successfully built pyspark\n",
            "Installing collected packages: pyspark\n",
            "Successfully installed pyspark-3.5.1\n",
            "Requirement already satisfied: pandas in /usr/local/lib/python3.10/dist-packages (2.0.3)\n",
            "Requirement already satisfied: python-dateutil>=2.8.2 in /usr/local/lib/python3.10/dist-packages (from pandas) (2.8.2)\n",
            "Requirement already satisfied: pytz>=2020.1 in /usr/local/lib/python3.10/dist-packages (from pandas) (2023.4)\n",
            "Requirement already satisfied: tzdata>=2022.1 in /usr/local/lib/python3.10/dist-packages (from pandas) (2024.1)\n",
            "Requirement already satisfied: numpy>=1.21.0 in /usr/local/lib/python3.10/dist-packages (from pandas) (1.25.2)\n",
            "Requirement already satisfied: six>=1.5 in /usr/local/lib/python3.10/dist-packages (from python-dateutil>=2.8.2->pandas) (1.16.0)\n"
          ]
        }
      ],
      "source": [
        "!pip install pyspark\n",
        "!pip install pandas"
      ]
    },
    {
      "cell_type": "code",
      "execution_count": 2,
      "metadata": {
        "id": "7FczVP2f0LED"
      },
      "outputs": [],
      "source": [
        "import pandas as pd\n",
        "from pyspark.sql import SparkSession\n",
        "from pyspark.sql.functions import col\n",
        "from pyspark.ml.feature import StringIndexer, VectorAssembler, StandardScaler\n",
        "from pyspark.ml.classification import DecisionTreeClassifier, RandomForestClassifier\n",
        "from pyspark.ml.evaluation import MulticlassClassificationEvaluator\n",
        "from pyspark.mllib.evaluation import MulticlassMetrics"
      ]
    },
    {
      "cell_type": "code",
      "execution_count": 3,
      "metadata": {
        "id": "2_WRDPN30RDo"
      },
      "outputs": [],
      "source": [
        "spark = SparkSession.builder.appName(\"IncomeClassifierModel\").getOrCreate()"
      ]
    },
    {
      "cell_type": "code",
      "execution_count": 4,
      "metadata": {
        "colab": {
          "base_uri": "https://localhost:8080/",
          "height": 76
        },
        "id": "pzieQ7Ym0SnH",
        "outputId": "9a8ebc6e-c13c-401f-894c-1190865b4619"
      },
      "outputs": [
        {
          "output_type": "display_data",
          "data": {
            "text/plain": [
              "<IPython.core.display.HTML object>"
            ],
            "text/html": [
              "\n",
              "     <input type=\"file\" id=\"files-230add49-74e6-4050-8505-52ff2851a7e6\" name=\"files[]\" multiple disabled\n",
              "        style=\"border:none\" />\n",
              "     <output id=\"result-230add49-74e6-4050-8505-52ff2851a7e6\">\n",
              "      Upload widget is only available when the cell has been executed in the\n",
              "      current browser session. Please rerun this cell to enable.\n",
              "      </output>\n",
              "      <script>// Copyright 2017 Google LLC\n",
              "//\n",
              "// Licensed under the Apache License, Version 2.0 (the \"License\");\n",
              "// you may not use this file except in compliance with the License.\n",
              "// You may obtain a copy of the License at\n",
              "//\n",
              "//      http://www.apache.org/licenses/LICENSE-2.0\n",
              "//\n",
              "// Unless required by applicable law or agreed to in writing, software\n",
              "// distributed under the License is distributed on an \"AS IS\" BASIS,\n",
              "// WITHOUT WARRANTIES OR CONDITIONS OF ANY KIND, either express or implied.\n",
              "// See the License for the specific language governing permissions and\n",
              "// limitations under the License.\n",
              "\n",
              "/**\n",
              " * @fileoverview Helpers for google.colab Python module.\n",
              " */\n",
              "(function(scope) {\n",
              "function span(text, styleAttributes = {}) {\n",
              "  const element = document.createElement('span');\n",
              "  element.textContent = text;\n",
              "  for (const key of Object.keys(styleAttributes)) {\n",
              "    element.style[key] = styleAttributes[key];\n",
              "  }\n",
              "  return element;\n",
              "}\n",
              "\n",
              "// Max number of bytes which will be uploaded at a time.\n",
              "const MAX_PAYLOAD_SIZE = 100 * 1024;\n",
              "\n",
              "function _uploadFiles(inputId, outputId) {\n",
              "  const steps = uploadFilesStep(inputId, outputId);\n",
              "  const outputElement = document.getElementById(outputId);\n",
              "  // Cache steps on the outputElement to make it available for the next call\n",
              "  // to uploadFilesContinue from Python.\n",
              "  outputElement.steps = steps;\n",
              "\n",
              "  return _uploadFilesContinue(outputId);\n",
              "}\n",
              "\n",
              "// This is roughly an async generator (not supported in the browser yet),\n",
              "// where there are multiple asynchronous steps and the Python side is going\n",
              "// to poll for completion of each step.\n",
              "// This uses a Promise to block the python side on completion of each step,\n",
              "// then passes the result of the previous step as the input to the next step.\n",
              "function _uploadFilesContinue(outputId) {\n",
              "  const outputElement = document.getElementById(outputId);\n",
              "  const steps = outputElement.steps;\n",
              "\n",
              "  const next = steps.next(outputElement.lastPromiseValue);\n",
              "  return Promise.resolve(next.value.promise).then((value) => {\n",
              "    // Cache the last promise value to make it available to the next\n",
              "    // step of the generator.\n",
              "    outputElement.lastPromiseValue = value;\n",
              "    return next.value.response;\n",
              "  });\n",
              "}\n",
              "\n",
              "/**\n",
              " * Generator function which is called between each async step of the upload\n",
              " * process.\n",
              " * @param {string} inputId Element ID of the input file picker element.\n",
              " * @param {string} outputId Element ID of the output display.\n",
              " * @return {!Iterable<!Object>} Iterable of next steps.\n",
              " */\n",
              "function* uploadFilesStep(inputId, outputId) {\n",
              "  const inputElement = document.getElementById(inputId);\n",
              "  inputElement.disabled = false;\n",
              "\n",
              "  const outputElement = document.getElementById(outputId);\n",
              "  outputElement.innerHTML = '';\n",
              "\n",
              "  const pickedPromise = new Promise((resolve) => {\n",
              "    inputElement.addEventListener('change', (e) => {\n",
              "      resolve(e.target.files);\n",
              "    });\n",
              "  });\n",
              "\n",
              "  const cancel = document.createElement('button');\n",
              "  inputElement.parentElement.appendChild(cancel);\n",
              "  cancel.textContent = 'Cancel upload';\n",
              "  const cancelPromise = new Promise((resolve) => {\n",
              "    cancel.onclick = () => {\n",
              "      resolve(null);\n",
              "    };\n",
              "  });\n",
              "\n",
              "  // Wait for the user to pick the files.\n",
              "  const files = yield {\n",
              "    promise: Promise.race([pickedPromise, cancelPromise]),\n",
              "    response: {\n",
              "      action: 'starting',\n",
              "    }\n",
              "  };\n",
              "\n",
              "  cancel.remove();\n",
              "\n",
              "  // Disable the input element since further picks are not allowed.\n",
              "  inputElement.disabled = true;\n",
              "\n",
              "  if (!files) {\n",
              "    return {\n",
              "      response: {\n",
              "        action: 'complete',\n",
              "      }\n",
              "    };\n",
              "  }\n",
              "\n",
              "  for (const file of files) {\n",
              "    const li = document.createElement('li');\n",
              "    li.append(span(file.name, {fontWeight: 'bold'}));\n",
              "    li.append(span(\n",
              "        `(${file.type || 'n/a'}) - ${file.size} bytes, ` +\n",
              "        `last modified: ${\n",
              "            file.lastModifiedDate ? file.lastModifiedDate.toLocaleDateString() :\n",
              "                                    'n/a'} - `));\n",
              "    const percent = span('0% done');\n",
              "    li.appendChild(percent);\n",
              "\n",
              "    outputElement.appendChild(li);\n",
              "\n",
              "    const fileDataPromise = new Promise((resolve) => {\n",
              "      const reader = new FileReader();\n",
              "      reader.onload = (e) => {\n",
              "        resolve(e.target.result);\n",
              "      };\n",
              "      reader.readAsArrayBuffer(file);\n",
              "    });\n",
              "    // Wait for the data to be ready.\n",
              "    let fileData = yield {\n",
              "      promise: fileDataPromise,\n",
              "      response: {\n",
              "        action: 'continue',\n",
              "      }\n",
              "    };\n",
              "\n",
              "    // Use a chunked sending to avoid message size limits. See b/62115660.\n",
              "    let position = 0;\n",
              "    do {\n",
              "      const length = Math.min(fileData.byteLength - position, MAX_PAYLOAD_SIZE);\n",
              "      const chunk = new Uint8Array(fileData, position, length);\n",
              "      position += length;\n",
              "\n",
              "      const base64 = btoa(String.fromCharCode.apply(null, chunk));\n",
              "      yield {\n",
              "        response: {\n",
              "          action: 'append',\n",
              "          file: file.name,\n",
              "          data: base64,\n",
              "        },\n",
              "      };\n",
              "\n",
              "      let percentDone = fileData.byteLength === 0 ?\n",
              "          100 :\n",
              "          Math.round((position / fileData.byteLength) * 100);\n",
              "      percent.textContent = `${percentDone}% done`;\n",
              "\n",
              "    } while (position < fileData.byteLength);\n",
              "  }\n",
              "\n",
              "  // All done.\n",
              "  yield {\n",
              "    response: {\n",
              "      action: 'complete',\n",
              "    }\n",
              "  };\n",
              "}\n",
              "\n",
              "scope.google = scope.google || {};\n",
              "scope.google.colab = scope.google.colab || {};\n",
              "scope.google.colab._files = {\n",
              "  _uploadFiles,\n",
              "  _uploadFilesContinue,\n",
              "};\n",
              "})(self);\n",
              "</script> "
            ]
          },
          "metadata": {}
        },
        {
          "output_type": "stream",
          "name": "stdout",
          "text": [
            "Saving income(1).csv to income(1).csv\n"
          ]
        }
      ],
      "source": [
        "from google.colab import files\n",
        "uploaded = files.upload()"
      ]
    },
    {
      "cell_type": "code",
      "execution_count": 5,
      "metadata": {
        "id": "HwQyXZEv1Dd2"
      },
      "outputs": [],
      "source": [
        "data = spark.read.csv('income(1).csv', header=True, inferSchema=True, nullValue='?', ignoreLeadingWhiteSpace=True,ignoreTrailingWhiteSpace=True)"
      ]
    },
    {
      "cell_type": "code",
      "source": [
        "from pyspark.sql.functions import col, isnull, count, when"
      ],
      "metadata": {
        "id": "oe0hpbl4UbM3"
      },
      "execution_count": 6,
      "outputs": []
    },
    {
      "cell_type": "code",
      "source": [
        "from pyspark.sql.functions import regexp_replace"
      ],
      "metadata": {
        "id": "NY6RI2RsWHS6"
      },
      "execution_count": 7,
      "outputs": []
    },
    {
      "cell_type": "code",
      "source": [
        "# Check for missing values before dropping\n",
        "total_rows_before = data.count()\n",
        "missing_values_before = data.select([count(when(isnull(c), c)).alias(c) for c in data.columns]).collect()"
      ],
      "metadata": {
        "id": "hQiIUWiaQwQp"
      },
      "execution_count": 8,
      "outputs": []
    },
    {
      "cell_type": "code",
      "source": [
        "print(f\"Total rows before dropping missing values: {total_rows_before}\")\n",
        "print(\"Missing values per column before dropping missing values:\")\n",
        "for row in missing_values_before:\n",
        "    print(row.asDict())"
      ],
      "metadata": {
        "colab": {
          "base_uri": "https://localhost:8080/"
        },
        "id": "FvIanvr9Sa-8",
        "outputId": "aba3cdb4-376c-4b87-c55c-8d8e6bf19479"
      },
      "execution_count": 9,
      "outputs": [
        {
          "output_type": "stream",
          "name": "stdout",
          "text": [
            "Total rows before dropping missing values: 32561\n",
            "Missing values per column before dropping missing values:\n",
            "{'age': 0, 'workclass': 1836, 'weight': 0, 'education': 0, 'education_years': 0, 'marital_status': 0, 'occupation': 1843, 'relationship': 0, 'race': 0, 'sex': 0, 'capital_gain': 0, 'capital_loss': 0, 'hours_per_week': 0, 'citizenship': 583, 'income_class': 0}\n"
          ]
        }
      ]
    },
    {
      "cell_type": "code",
      "execution_count": 10,
      "metadata": {
        "id": "CwfgBUlK1V6W"
      },
      "outputs": [],
      "source": [
        "data = data.na.drop()"
      ]
    },
    {
      "cell_type": "code",
      "source": [
        "# Check for missing values after dropping\n",
        "total_rows_after = data.count()\n",
        "missing_values_after = data.select([count(when(isnull(c), c)).alias(c) for c in data.columns]).collect()"
      ],
      "metadata": {
        "id": "EqZDeuopSl4D"
      },
      "execution_count": 11,
      "outputs": []
    },
    {
      "cell_type": "code",
      "source": [
        "print(f\"Total rows after dropping missing values: {total_rows_after}\")\n",
        "print(\"Missing values per column after dropping missing values:\")\n",
        "for row in missing_values_after:\n",
        "    print(row.asDict())"
      ],
      "metadata": {
        "colab": {
          "base_uri": "https://localhost:8080/"
        },
        "id": "EQKh_NJnSnTf",
        "outputId": "e7550780-bcfc-4aa1-a6c5-3ad3729dc583"
      },
      "execution_count": 12,
      "outputs": [
        {
          "output_type": "stream",
          "name": "stdout",
          "text": [
            "Total rows after dropping missing values: 30162\n",
            "Missing values per column after dropping missing values:\n",
            "{'age': 0, 'workclass': 0, 'weight': 0, 'education': 0, 'education_years': 0, 'marital_status': 0, 'occupation': 0, 'relationship': 0, 'race': 0, 'sex': 0, 'capital_gain': 0, 'capital_loss': 0, 'hours_per_week': 0, 'citizenship': 0, 'income_class': 0}\n"
          ]
        }
      ]
    },
    {
      "cell_type": "code",
      "execution_count": 13,
      "metadata": {
        "id": "NHYjiXtT48Ii"
      },
      "outputs": [],
      "source": [
        "from pyspark.sql.types import StringType"
      ]
    },
    {
      "cell_type": "code",
      "execution_count": 14,
      "metadata": {
        "id": "qkRc-S631bQD",
        "colab": {
          "base_uri": "https://localhost:8080/"
        },
        "outputId": "9031542c-615c-4829-900d-6fbf50ff351f"
      },
      "outputs": [
        {
          "output_type": "stream",
          "name": "stdout",
          "text": [
            "root\n",
            " |-- age: integer (nullable = true)\n",
            " |-- workclass: string (nullable = true)\n",
            " |-- weight: integer (nullable = true)\n",
            " |-- education: string (nullable = true)\n",
            " |-- education_years: integer (nullable = true)\n",
            " |-- marital_status: string (nullable = true)\n",
            " |-- occupation: string (nullable = true)\n",
            " |-- relationship: string (nullable = true)\n",
            " |-- race: string (nullable = true)\n",
            " |-- sex: string (nullable = true)\n",
            " |-- capital_gain: integer (nullable = true)\n",
            " |-- capital_loss: integer (nullable = true)\n",
            " |-- hours_per_week: integer (nullable = true)\n",
            " |-- citizenship: string (nullable = true)\n",
            " |-- income_class: string (nullable = true)\n",
            "\n",
            "+---+----------------+------+---------+---------------+------------------+-----------------+-------------+-----+------+------------+------------+--------------+-------------+------------+\n",
            "|age|       workclass|weight|education|education_years|    marital_status|       occupation| relationship| race|   sex|capital_gain|capital_loss|hours_per_week|  citizenship|income_class|\n",
            "+---+----------------+------+---------+---------------+------------------+-----------------+-------------+-----+------+------------+------------+--------------+-------------+------------+\n",
            "| 39|       State-gov| 77516|Bachelors|             13|     Never-married|     Adm-clerical|Not-in-family|White|  Male|        2174|           0|            40|United-States|       <=50K|\n",
            "| 50|Self-emp-not-inc| 83311|Bachelors|             13|Married-civ-spouse|  Exec-managerial|      Husband|White|  Male|           0|           0|            13|United-States|       <=50K|\n",
            "| 38|         Private|215646|  HS-grad|              9|          Divorced|Handlers-cleaners|Not-in-family|White|  Male|           0|           0|            40|United-States|       <=50K|\n",
            "| 53|         Private|234721|     11th|              7|Married-civ-spouse|Handlers-cleaners|      Husband|Black|  Male|           0|           0|            40|United-States|       <=50K|\n",
            "| 28|         Private|338409|Bachelors|             13|Married-civ-spouse|   Prof-specialty|         Wife|Black|Female|           0|           0|            40|         Cuba|       <=50K|\n",
            "+---+----------------+------+---------+---------------+------------------+-----------------+-------------+-----+------+------------+------------+--------------+-------------+------------+\n",
            "only showing top 5 rows\n",
            "\n"
          ]
        }
      ],
      "source": [
        "data.printSchema()\n",
        "data.show(5)"
      ]
    },
    {
      "cell_type": "code",
      "execution_count": 15,
      "metadata": {
        "id": "lP4VC6Nh50NO",
        "colab": {
          "base_uri": "https://localhost:8080/"
        },
        "outputId": "f9290fbd-fd67-47f5-f299-dbaf8035607a"
      },
      "outputs": [
        {
          "output_type": "stream",
          "name": "stdout",
          "text": [
            "Categorical columns: ['workclass', 'education', 'marital_status', 'occupation', 'relationship', 'race', 'sex', 'citizenship']\n"
          ]
        }
      ],
      "source": [
        "categorical_columns = [c for c, t in data.dtypes if t == 'string' and t != 'double' and c != 'income_class']\n",
        "print(\"Categorical columns:\", categorical_columns)"
      ]
    },
    {
      "cell_type": "code",
      "execution_count": 16,
      "metadata": {
        "id": "uSw_TBWM6hcb"
      },
      "outputs": [],
      "source": [
        "for column in categorical_columns:\n",
        "    indexer = StringIndexer(inputCol=column, outputCol=column + \"_index\")\n",
        "    data = indexer.fit(data).transform(data)"
      ]
    },
    {
      "cell_type": "code",
      "execution_count": 17,
      "metadata": {
        "id": "hg0z0PpJ6s5i",
        "colab": {
          "base_uri": "https://localhost:8080/"
        },
        "outputId": "d561bdbc-754f-49ac-a0ac-ff2362331f82"
      },
      "outputs": [
        {
          "output_type": "stream",
          "name": "stdout",
          "text": [
            "root\n",
            " |-- age: integer (nullable = true)\n",
            " |-- workclass: string (nullable = true)\n",
            " |-- weight: integer (nullable = true)\n",
            " |-- education: string (nullable = true)\n",
            " |-- education_years: integer (nullable = true)\n",
            " |-- marital_status: string (nullable = true)\n",
            " |-- occupation: string (nullable = true)\n",
            " |-- relationship: string (nullable = true)\n",
            " |-- race: string (nullable = true)\n",
            " |-- sex: string (nullable = true)\n",
            " |-- capital_gain: integer (nullable = true)\n",
            " |-- capital_loss: integer (nullable = true)\n",
            " |-- hours_per_week: integer (nullable = true)\n",
            " |-- citizenship: string (nullable = true)\n",
            " |-- income_class: string (nullable = true)\n",
            " |-- workclass_index: double (nullable = false)\n",
            " |-- education_index: double (nullable = false)\n",
            " |-- marital_status_index: double (nullable = false)\n",
            " |-- occupation_index: double (nullable = false)\n",
            " |-- relationship_index: double (nullable = false)\n",
            " |-- race_index: double (nullable = false)\n",
            " |-- sex_index: double (nullable = false)\n",
            " |-- citizenship_index: double (nullable = false)\n",
            "\n",
            "+---+----------------+------+---------+---------------+------------------+-----------------+-------------+-----+------+------------+------------+--------------+-------------+------------+---------------+---------------+--------------------+----------------+------------------+----------+---------+-----------------+\n",
            "|age|       workclass|weight|education|education_years|    marital_status|       occupation| relationship| race|   sex|capital_gain|capital_loss|hours_per_week|  citizenship|income_class|workclass_index|education_index|marital_status_index|occupation_index|relationship_index|race_index|sex_index|citizenship_index|\n",
            "+---+----------------+------+---------+---------------+------------------+-----------------+-------------+-----+------+------------+------------+--------------+-------------+------------+---------------+---------------+--------------------+----------------+------------------+----------+---------+-----------------+\n",
            "| 39|       State-gov| 77516|Bachelors|             13|     Never-married|     Adm-clerical|Not-in-family|White|  Male|        2174|           0|            40|United-States|       <=50K|            3.0|            2.0|                 1.0|             3.0|               1.0|       0.0|      0.0|              0.0|\n",
            "| 50|Self-emp-not-inc| 83311|Bachelors|             13|Married-civ-spouse|  Exec-managerial|      Husband|White|  Male|           0|           0|            13|United-States|       <=50K|            1.0|            2.0|                 0.0|             2.0|               0.0|       0.0|      0.0|              0.0|\n",
            "| 38|         Private|215646|  HS-grad|              9|          Divorced|Handlers-cleaners|Not-in-family|White|  Male|           0|           0|            40|United-States|       <=50K|            0.0|            0.0|                 2.0|             8.0|               1.0|       0.0|      0.0|              0.0|\n",
            "| 53|         Private|234721|     11th|              7|Married-civ-spouse|Handlers-cleaners|      Husband|Black|  Male|           0|           0|            40|United-States|       <=50K|            0.0|            5.0|                 0.0|             8.0|               0.0|       1.0|      0.0|              0.0|\n",
            "| 28|         Private|338409|Bachelors|             13|Married-civ-spouse|   Prof-specialty|         Wife|Black|Female|           0|           0|            40|         Cuba|       <=50K|            0.0|            2.0|                 0.0|             0.0|               4.0|       1.0|      1.0|              8.0|\n",
            "+---+----------------+------+---------+---------------+------------------+-----------------+-------------+-----+------+------------+------------+--------------+-------------+------------+---------------+---------------+--------------------+----------------+------------------+----------+---------+-----------------+\n",
            "only showing top 5 rows\n",
            "\n"
          ]
        }
      ],
      "source": [
        "data.printSchema()\n",
        "data.show(5)"
      ]
    },
    {
      "cell_type": "code",
      "execution_count": 18,
      "metadata": {
        "id": "TFb8Ee3O67qI",
        "colab": {
          "base_uri": "https://localhost:8080/"
        },
        "outputId": "1ffbd708-8181-46af-fe7c-d463ffa8ca42"
      },
      "outputs": [
        {
          "output_type": "stream",
          "name": "stdout",
          "text": [
            "Numerical columns: ['age', 'weight', 'education_years', 'capital_gain', 'capital_loss', 'hours_per_week', 'workclass_index', 'education_index', 'marital_status_index', 'occupation_index', 'relationship_index', 'race_index', 'sex_index', 'citizenship_index']\n"
          ]
        }
      ],
      "source": [
        "numerical_columns = [c for c, t in data.dtypes if t in ['int', 'double'] and c != 'income_class']\n",
        "print(\"Numerical columns:\", numerical_columns)"
      ]
    },
    {
      "cell_type": "code",
      "execution_count": 19,
      "metadata": {
        "id": "ZC-MmJ7C7Ciw"
      },
      "outputs": [],
      "source": [
        "assembler_numerical = VectorAssembler(inputCols=numerical_columns, outputCol=\"numerical_features\")\n",
        "data = assembler_numerical.transform(data)"
      ]
    },
    {
      "cell_type": "code",
      "execution_count": 20,
      "metadata": {
        "id": "Ab9iwqqi7HIQ",
        "colab": {
          "base_uri": "https://localhost:8080/"
        },
        "outputId": "bdd43105-3cf8-49ab-cb37-4cabb9e83f06"
      },
      "outputs": [
        {
          "output_type": "stream",
          "name": "stdout",
          "text": [
            "+-------------------------------------------------------------------+\n",
            "|numerical_features                                                 |\n",
            "+-------------------------------------------------------------------+\n",
            "|[39.0,77516.0,13.0,2174.0,0.0,40.0,3.0,2.0,1.0,3.0,1.0,0.0,0.0,0.0]|\n",
            "|(14,[0,1,2,5,6,7,9],[50.0,83311.0,13.0,13.0,1.0,2.0,2.0])          |\n",
            "|(14,[0,1,2,5,8,9,10],[38.0,215646.0,9.0,40.0,2.0,8.0,1.0])         |\n",
            "|(14,[0,1,2,5,7,9,11],[53.0,234721.0,7.0,40.0,5.0,8.0,1.0])         |\n",
            "|[28.0,338409.0,13.0,0.0,0.0,40.0,0.0,2.0,0.0,0.0,4.0,1.0,1.0,8.0]  |\n",
            "+-------------------------------------------------------------------+\n",
            "only showing top 5 rows\n",
            "\n"
          ]
        }
      ],
      "source": [
        "data.select(\"numerical_features\").show(5, truncate=False)"
      ]
    },
    {
      "cell_type": "code",
      "execution_count": 21,
      "metadata": {
        "id": "Nw00jZYU7RDt"
      },
      "outputs": [],
      "source": [
        "scaler = StandardScaler(inputCol=\"numerical_features\", outputCol=\"scaled_numerical_features\", withMean=True, withStd=True)\n",
        "scaler_model = scaler.fit(data)\n",
        "data = scaler_model.transform(data)"
      ]
    },
    {
      "cell_type": "code",
      "execution_count": 22,
      "metadata": {
        "id": "lN5yMnHw7Wlp",
        "colab": {
          "base_uri": "https://localhost:8080/"
        },
        "outputId": "5b33199c-dba3-4d2f-f2b0-e64613c5095c"
      },
      "outputs": [
        {
          "output_type": "stream",
          "name": "stdout",
          "text": [
            "+-------------------------------------------------------------------------------------------------------------------------------------------------------------------------------------------------------------------------------------------------------------------------------------------+\n",
            "|scaled_numerical_features                                                                                                                                                                                                                                                                  |\n",
            "+-------------------------------------------------------------------------------------------------------------------------------------------------------------------------------------------------------------------------------------------------------------------------------------------+\n",
            "|[0.04279500190227507,-1.0627039855647082,1.1288996674464633,0.14608986264892962,-0.2185823515822073,-0.0777328219923888,1.810892080693077,-0.13255150061971974,0.11953657341406088,-0.26426377880735863,-0.15172161223473882,-0.34585493967723097,-0.6927946734071289,-0.22187838725386747]|\n",
            "|[0.8802735509842882,-1.0078546054085074,1.1288996674464633,-0.147442177875167,-0.2185823515822073,-2.331492049322709,0.27058309075033576,-0.13255150061971974,-0.8032845495229435,-0.6016489257443953,-0.8897037551510798,-0.34585493967723097,-0.6927946734071289,-0.22187838725386747]   |\n",
            "|[-0.03333941165063521,0.24468943651916183,-0.43973090919537555,-0.147442177875167,-0.2185823515822073,-0.0777328219923888,-0.4995714042210349,-0.7649992363931697,1.0423576963510652,1.4226619558778246,-0.15172161223473882,-0.34585493967723097,-0.6927946734071289,-0.22187838725386747]|\n",
            "|[1.1086767916430191,0.4252333410022562,-1.224046197516295,-0.147442177875167,-0.2185823515822073,-0.0777328219923888,-0.4995714042210349,0.8161201030404551,-0.8032845495229435,1.4226619558778246,-0.8897037551510798,1.286900842220508,-0.6927946734071289,-0.22187838725386747]         |\n",
            "|[-0.7946835471797381,1.4066349854606093,1.1288996674464633,-0.147442177875167,-0.2185823515822073,-0.0777328219923888,-0.4995714042210349,-0.13255150061971974,-0.8032845495229435,-1.2764192196184685,2.0622248165142842,1.286900842220508,1.4433812557797268,1.7157412186528727]         |\n",
            "+-------------------------------------------------------------------------------------------------------------------------------------------------------------------------------------------------------------------------------------------------------------------------------------------+\n",
            "only showing top 5 rows\n",
            "\n"
          ]
        }
      ],
      "source": [
        "data.select(\"scaled_numerical_features\").show(5, truncate=False)"
      ]
    },
    {
      "cell_type": "code",
      "execution_count": 23,
      "metadata": {
        "id": "ljmI_DAj7cm0"
      },
      "outputs": [],
      "source": [
        "feature_columns = [\"scaled_numerical_features\"] + [col + \"_index\" for col in categorical_columns]\n",
        "assembler = VectorAssembler(inputCols=feature_columns, outputCol=\"features\")\n",
        "data = assembler.transform(data)"
      ]
    },
    {
      "cell_type": "code",
      "execution_count": 24,
      "metadata": {
        "id": "sU1rCHRP7igL",
        "colab": {
          "base_uri": "https://localhost:8080/"
        },
        "outputId": "2e5d3063-86a5-4975-8785-e87ce8052988"
      },
      "outputs": [
        {
          "output_type": "stream",
          "name": "stdout",
          "text": [
            "+---------------------------------------------------------------------------------------------------------------------------------------------------------------------------------------------------------------------------------------------------------------------------------------------------------------------------+\n",
            "|features                                                                                                                                                                                                                                                                                                                   |\n",
            "+---------------------------------------------------------------------------------------------------------------------------------------------------------------------------------------------------------------------------------------------------------------------------------------------------------------------------+\n",
            "|[0.04279500190227507,-1.0627039855647082,1.1288996674464633,0.14608986264892962,-0.2185823515822073,-0.0777328219923888,1.810892080693077,-0.13255150061971974,0.11953657341406088,-0.26426377880735863,-0.15172161223473882,-0.34585493967723097,-0.6927946734071289,-0.22187838725386747,3.0,2.0,1.0,3.0,1.0,0.0,0.0,0.0]|\n",
            "|[0.8802735509842882,-1.0078546054085074,1.1288996674464633,-0.147442177875167,-0.2185823515822073,-2.331492049322709,0.27058309075033576,-0.13255150061971974,-0.8032845495229435,-0.6016489257443953,-0.8897037551510798,-0.34585493967723097,-0.6927946734071289,-0.22187838725386747,1.0,2.0,0.0,2.0,0.0,0.0,0.0,0.0]   |\n",
            "|[-0.03333941165063521,0.24468943651916183,-0.43973090919537555,-0.147442177875167,-0.2185823515822073,-0.0777328219923888,-0.4995714042210349,-0.7649992363931697,1.0423576963510652,1.4226619558778246,-0.15172161223473882,-0.34585493967723097,-0.6927946734071289,-0.22187838725386747,0.0,0.0,2.0,8.0,1.0,0.0,0.0,0.0]|\n",
            "|[1.1086767916430191,0.4252333410022562,-1.224046197516295,-0.147442177875167,-0.2185823515822073,-0.0777328219923888,-0.4995714042210349,0.8161201030404551,-0.8032845495229435,1.4226619558778246,-0.8897037551510798,1.286900842220508,-0.6927946734071289,-0.22187838725386747,0.0,5.0,0.0,8.0,0.0,1.0,0.0,0.0]         |\n",
            "|[-0.7946835471797381,1.4066349854606093,1.1288996674464633,-0.147442177875167,-0.2185823515822073,-0.0777328219923888,-0.4995714042210349,-0.13255150061971974,-0.8032845495229435,-1.2764192196184685,2.0622248165142842,1.286900842220508,1.4433812557797268,1.7157412186528727,0.0,2.0,0.0,0.0,4.0,1.0,1.0,8.0]         |\n",
            "+---------------------------------------------------------------------------------------------------------------------------------------------------------------------------------------------------------------------------------------------------------------------------------------------------------------------------+\n",
            "only showing top 5 rows\n",
            "\n"
          ]
        }
      ],
      "source": [
        "data.select(\"features\").show(5, truncate=False)"
      ]
    },
    {
      "cell_type": "code",
      "execution_count": 25,
      "metadata": {
        "id": "0dsx-i3Z7qw3"
      },
      "outputs": [],
      "source": [
        "label_indexer = StringIndexer(inputCol=\"income_class\", outputCol=\"label\").fit(data)\n",
        "data = label_indexer.transform(data)"
      ]
    },
    {
      "cell_type": "code",
      "execution_count": 26,
      "metadata": {
        "id": "8qffZCUc7v1H",
        "colab": {
          "base_uri": "https://localhost:8080/"
        },
        "outputId": "0d989aee-996c-462f-dff7-0f6ccafa2ae6"
      },
      "outputs": [
        {
          "output_type": "stream",
          "name": "stdout",
          "text": [
            "+-----+\n",
            "|label|\n",
            "+-----+\n",
            "|  0.0|\n",
            "|  0.0|\n",
            "|  0.0|\n",
            "|  0.0|\n",
            "|  0.0|\n",
            "+-----+\n",
            "only showing top 5 rows\n",
            "\n"
          ]
        }
      ],
      "source": [
        "data.select(\"label\").show(5)"
      ]
    },
    {
      "cell_type": "code",
      "execution_count": 27,
      "metadata": {
        "id": "tgAqlGeS71I9"
      },
      "outputs": [],
      "source": [
        "data = data.select(\"features\", \"label\")"
      ]
    },
    {
      "cell_type": "code",
      "execution_count": 28,
      "metadata": {
        "id": "FCbzVPBP76K5",
        "colab": {
          "base_uri": "https://localhost:8080/"
        },
        "outputId": "ea543af3-b114-478a-8ce9-ad87ed0ffb39"
      },
      "outputs": [
        {
          "output_type": "stream",
          "name": "stdout",
          "text": [
            "+---------------------------------------------------------------------------------------------------------------------------------------------------------------------------------------------------------------------------------------------------------------------------------------------------------------------------+-----+\n",
            "|features                                                                                                                                                                                                                                                                                                                   |label|\n",
            "+---------------------------------------------------------------------------------------------------------------------------------------------------------------------------------------------------------------------------------------------------------------------------------------------------------------------------+-----+\n",
            "|[0.04279500190227507,-1.0627039855647082,1.1288996674464633,0.14608986264892962,-0.2185823515822073,-0.0777328219923888,1.810892080693077,-0.13255150061971974,0.11953657341406088,-0.26426377880735863,-0.15172161223473882,-0.34585493967723097,-0.6927946734071289,-0.22187838725386747,3.0,2.0,1.0,3.0,1.0,0.0,0.0,0.0]|0.0  |\n",
            "|[0.8802735509842882,-1.0078546054085074,1.1288996674464633,-0.147442177875167,-0.2185823515822073,-2.331492049322709,0.27058309075033576,-0.13255150061971974,-0.8032845495229435,-0.6016489257443953,-0.8897037551510798,-0.34585493967723097,-0.6927946734071289,-0.22187838725386747,1.0,2.0,0.0,2.0,0.0,0.0,0.0,0.0]   |0.0  |\n",
            "|[-0.03333941165063521,0.24468943651916183,-0.43973090919537555,-0.147442177875167,-0.2185823515822073,-0.0777328219923888,-0.4995714042210349,-0.7649992363931697,1.0423576963510652,1.4226619558778246,-0.15172161223473882,-0.34585493967723097,-0.6927946734071289,-0.22187838725386747,0.0,0.0,2.0,8.0,1.0,0.0,0.0,0.0]|0.0  |\n",
            "|[1.1086767916430191,0.4252333410022562,-1.224046197516295,-0.147442177875167,-0.2185823515822073,-0.0777328219923888,-0.4995714042210349,0.8161201030404551,-0.8032845495229435,1.4226619558778246,-0.8897037551510798,1.286900842220508,-0.6927946734071289,-0.22187838725386747,0.0,5.0,0.0,8.0,0.0,1.0,0.0,0.0]         |0.0  |\n",
            "|[-0.7946835471797381,1.4066349854606093,1.1288996674464633,-0.147442177875167,-0.2185823515822073,-0.0777328219923888,-0.4995714042210349,-0.13255150061971974,-0.8032845495229435,-1.2764192196184685,2.0622248165142842,1.286900842220508,1.4433812557797268,1.7157412186528727,0.0,2.0,0.0,0.0,4.0,1.0,1.0,8.0]         |0.0  |\n",
            "+---------------------------------------------------------------------------------------------------------------------------------------------------------------------------------------------------------------------------------------------------------------------------------------------------------------------------+-----+\n",
            "only showing top 5 rows\n",
            "\n"
          ]
        }
      ],
      "source": [
        "data.show(5, truncate=False)"
      ]
    },
    {
      "cell_type": "code",
      "execution_count": 29,
      "metadata": {
        "id": "CfKBFXPL7-pF"
      },
      "outputs": [],
      "source": [
        "train_data, test_data = data.randomSplit([0.7, 0.3], seed=42)"
      ]
    },
    {
      "cell_type": "code",
      "execution_count": 30,
      "metadata": {
        "id": "cluh96Gg9tIl"
      },
      "outputs": [],
      "source": [
        "dt = DecisionTreeClassifier(labelCol=\"label\", featuresCol=\"features\", maxBins=120)\n",
        "dt_model = dt.fit(train_data)"
      ]
    },
    {
      "cell_type": "code",
      "execution_count": 31,
      "metadata": {
        "id": "voutVBle9yvu"
      },
      "outputs": [],
      "source": [
        "rf = RandomForestClassifier(labelCol=\"label\", featuresCol=\"features\", maxBins=120)\n",
        "rf_model = rf.fit(train_data)"
      ]
    },
    {
      "cell_type": "code",
      "execution_count": 32,
      "metadata": {
        "id": "UzfZVY1g95D8"
      },
      "outputs": [],
      "source": [
        "dt_predictions = dt_model.transform(test_data)\n",
        "rf_predictions = rf_model.transform(test_data)"
      ]
    },
    {
      "cell_type": "code",
      "execution_count": 33,
      "metadata": {
        "id": "-RN0WJVu99Ye",
        "colab": {
          "base_uri": "https://localhost:8080/"
        },
        "outputId": "b1d93ab3-b001-408c-ba7a-de6c07789764"
      },
      "outputs": [
        {
          "output_type": "stream",
          "name": "stdout",
          "text": [
            "Decision Tree Accuracy: 0.85\n"
          ]
        }
      ],
      "source": [
        "evaluator = MulticlassClassificationEvaluator(labelCol=\"label\", predictionCol=\"prediction\", metricName=\"accuracy\")\n",
        "dt_accuracy = evaluator.evaluate(dt_predictions)\n",
        "print(f\"Decision Tree Accuracy: {dt_accuracy:.2f}\")"
      ]
    },
    {
      "cell_type": "code",
      "execution_count": 35,
      "metadata": {
        "id": "o6QH0go0-CHH",
        "colab": {
          "base_uri": "https://localhost:8080/"
        },
        "outputId": "5e2a1298-c653-4bdd-f8bb-fc6c9232da4b"
      },
      "outputs": [
        {
          "output_type": "stream",
          "name": "stdout",
          "text": [
            "Random Forest Accuracy: 0.85\n"
          ]
        }
      ],
      "source": [
        "rf_accuracy = evaluator.evaluate(rf_predictions)\n",
        "print(f\"Random Forest Accuracy: {rf_accuracy:.2f}\")"
      ]
    },
    {
      "cell_type": "code",
      "execution_count": 36,
      "metadata": {
        "id": "OxSf3TAs-JAB"
      },
      "outputs": [],
      "source": [
        "def print_confusion_matrix(predictions, model_name):\n",
        "    prediction_and_labels = predictions.select(\"prediction\", \"label\").rdd\n",
        "    metrics = MulticlassMetrics(prediction_and_labels)\n",
        "    confusion_matrix = metrics.confusionMatrix().toArray()\n",
        "    print(f\"Confusion Matrix for {model_name}:\\n{confusion_matrix}\")"
      ]
    },
    {
      "cell_type": "code",
      "execution_count": 37,
      "metadata": {
        "id": "1nbVpDbY-M0T",
        "colab": {
          "base_uri": "https://localhost:8080/"
        },
        "outputId": "28834ced-2fd1-4497-a5d7-cfd01906ff34"
      },
      "outputs": [
        {
          "output_type": "stream",
          "name": "stderr",
          "text": [
            "/usr/local/lib/python3.10/dist-packages/pyspark/sql/context.py:158: FutureWarning: Deprecated in 3.0.0. Use SparkSession.builder.getOrCreate() instead.\n",
            "  warnings.warn(\n"
          ]
        },
        {
          "output_type": "stream",
          "name": "stdout",
          "text": [
            "Confusion Matrix for Decision Tree:\n",
            "[[6467.  304.]\n",
            " [1054. 1163.]]\n"
          ]
        }
      ],
      "source": [
        "print_confusion_matrix(dt_predictions, \"Decision Tree\")"
      ]
    },
    {
      "cell_type": "code",
      "execution_count": 38,
      "metadata": {
        "id": "CqcmRO8V-Sl2",
        "colab": {
          "base_uri": "https://localhost:8080/"
        },
        "outputId": "0c2ad93b-fcee-449f-facf-2b0ee80479ab"
      },
      "outputs": [
        {
          "output_type": "stream",
          "name": "stdout",
          "text": [
            "Confusion Matrix for Random Forest:\n",
            "[[6468.  303.]\n",
            " [1060. 1157.]]\n"
          ]
        }
      ],
      "source": [
        "print_confusion_matrix(rf_predictions, \"Random Forest\")"
      ]
    },
    {
      "cell_type": "code",
      "execution_count": 42,
      "metadata": {
        "id": "PvYDRzyR-Xlb",
        "colab": {
          "base_uri": "https://localhost:8080/"
        },
        "outputId": "eecda3f0-5e9e-4516-e8e2-38d58f92d268"
      },
      "outputs": [
        {
          "output_type": "stream",
          "name": "stdout",
          "text": [
            "Decision Tree is the better model.\n"
          ]
        }
      ],
      "source": [
        "\n",
        "if rf_accuracy == dt_accuracy:\n",
        "    print(\"Both models perform the same.\")\n",
        "elif rf_accuracy > dt_accuracy:\n",
        "    print(\"Random Forest is the better model.\")\n",
        "else:\n",
        "    print(\"Decision Tree is the better model.\")"
      ]
    },
    {
      "cell_type": "code",
      "execution_count": null,
      "metadata": {
        "id": "9KNDvNu5-bqV"
      },
      "outputs": [],
      "source": [
        "spark.stop()"
      ]
    }
  ],
  "metadata": {
    "colab": {
      "provenance": []
    },
    "kernelspec": {
      "display_name": "Python 3",
      "name": "python3"
    },
    "language_info": {
      "name": "python"
    }
  },
  "nbformat": 4,
  "nbformat_minor": 0
}